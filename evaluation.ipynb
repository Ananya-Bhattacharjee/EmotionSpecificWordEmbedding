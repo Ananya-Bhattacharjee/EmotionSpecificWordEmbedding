{
 "cells": [
  {
   "cell_type": "code",
   "execution_count": 2,
   "metadata": {},
   "outputs": [
    {
     "name": "stderr",
     "output_type": "stream",
     "text": [
      "[nltk_data] Downloading package stopwords to\n",
      "[nltk_data]     /Users/liushikai/nltk_data...\n",
      "[nltk_data]   Package stopwords is already up-to-date!\n"
     ]
    },
    {
     "data": {
      "text/plain": [
       "True"
      ]
     },
     "execution_count": 2,
     "metadata": {},
     "output_type": "execute_result"
    }
   ],
   "source": [
    "import numpy as np\n",
    "import pandas as pd\n",
    "import matplotlib.pyplot as plt \n",
    "%matplotlib inline\n",
    "from sklearn import preprocessing\n",
    "import seaborn as sns\n",
    "from sklearn.utils import shuffle\n",
    "from sklearn.svm import SVC\n",
    "from sklearn.model_selection import cross_validate\n",
    "from sklearn.metrics import confusion_matrix,classification_report\n",
    "from sklearn.model_selection import cross_val_score, GridSearchCV\n",
    "from collections import defaultdict  # For word frequency\n",
    "pd.options.mode.chained_assignment = None\n",
    "import re\n",
    "import nltk\n",
    "import seaborn as sn\n",
    "from sklearn.model_selection import cross_val_predict\n",
    "import pickle\n",
    "import string\n",
    "import heapq\n",
    "from sklearn import svm\n",
    "nltk.download('stopwords')"
   ]
  },
  {
   "cell_type": "markdown",
   "metadata": {},
   "source": [
    "# Import Data"
   ]
  },
  {
   "cell_type": "code",
   "execution_count": 3,
   "metadata": {},
   "outputs": [],
   "source": [
    "## import testing data set\n",
    "## remove emotion guilt and shame\n",
    "data = pd.read_excel(\"DATA.xlsx\",index_col=0)\n",
    "data = data[['Field1','SIT']]\n",
    "data = data.reset_index()\n",
    "data.columns= ['ID','emotion', 'sentence']\n",
    "data = data[data.emotion  != 'shame']\n",
    "data = data[data.emotion  != 'guilt']\n",
    "data = data.sample(frac=1,random_state=13579)"
   ]
  },
  {
   "cell_type": "code",
   "execution_count": 4,
   "metadata": {},
   "outputs": [
    {
     "data": {
      "image/png": "[encoded data removed]",
      "text/plain": [
       "<Figure size 432x288 with 1 Axes>"
      ]
     },
     "metadata": {
      "needs_background": "light"
     },
     "output_type": "display_data"
    }
   ],
   "source": [
    "emotions = data.emotion.tolist()\n",
    "plt.hist(emotions, bins=20,rwidth=1)\n",
    "plt.ylabel('count')\n",
    "#plt.xlabel('rating')\n",
    "plt.title('Distribution of emotion')\n",
    "plt.show()"
   ]
  },
  {
   "cell_type": "markdown",
   "metadata": {},
   "source": [
    "# Clean Data"
   ]
  },
  {
   "cell_type": "code",
   "execution_count": 5,
   "metadata": {},
   "outputs": [],
   "source": [
    "# data cleaning functions\n",
    "def clean_numbers(x):\n",
    "    '''\n",
    "    replace number with # sign\n",
    "    '''\n",
    "    x = re.sub('[0-9]{3,}', '### ', x)\n",
    "    x = re.sub('[0-9]{2}', ' ## ', x)\n",
    "    return x\n",
    "\n",
    "def clean_punc(x):\n",
    "    '''\n",
    "    replace punctuation with space\n",
    "    '''\n",
    "    x = str(x)\n",
    "    for punct in string.punctuation:\n",
    "        x = x.replace(punct, ' ')\n",
    "    return x\n",
    "\n",
    "def preprocess(df, feature):\n",
    "    '''\n",
    "    preprocess the feature column in df\n",
    "    remove punctuations, change to lowercase, repalce numbers with #\n",
    "    fill with 'None' if the string is empty\n",
    "    '''\n",
    "    df[feature] = df[feature].map(clean_punc)\n",
    "    df[feature] = df[feature].str.lower()\n",
    "    df[feature] = df[feature].map(clean_numbers)\n",
    "    df[feature] = df[feature].map(lambda x: 'None' if x == '' else x)\n",
    "    return df\n",
    "\n",
    "# preprocess the data\n",
    "data = preprocess(data, 'sentence')"
   ]
  },
  {
   "cell_type": "code",
   "execution_count": 6,
   "metadata": {},
   "outputs": [],
   "source": [
    "\n",
    "corpus = []\n",
    "for sentence in data['sentence'].tolist():\n",
    "    word_list = sentence.split()\n",
    "    corpus.append(word_list)\n"
   ]
  },
  {
   "cell_type": "markdown",
   "metadata": {},
   "source": [
    "# Glove 6B"
   ]
  },
  {
   "cell_type": "code",
   "execution_count": 8,
   "metadata": {},
   "outputs": [],
   "source": [
    "import torch\n",
    "import torchtext\n",
    "glove = torchtext.vocab.GloVe(name=\"6B\", dim=50)   \n",
    "\n",
    "## remove word that does not in our trained embedding model\n",
    "with open('ave_dict', 'rb') as rf:\n",
    "    ave_model = pickle.load(rf)\n",
    "\n",
    "vector_glove = []\n",
    "for i in range(len(corpus)):\n",
    "    temp = glove['']\n",
    "    for j in range(len(corpus[i])):\n",
    "        if  corpus[i][j] in ave_model.keys():\n",
    "            temp = temp + glove[corpus[i][j]]\n",
    "        else:\n",
    "            next\n",
    "    vector_glove.append(temp/len(corpus[i]))\n",
    "vec_sentence_glove = np.vstack( vector_glove )  "
   ]
  },
  {
   "cell_type": "code",
   "execution_count": 9,
   "metadata": {},
   "outputs": [
    {
     "data": {
      "text/plain": [
       "{'fit_time': array([2.62730908, 2.42783833, 2.21573901, 2.41039991, 2.33338714]),\n",
       " 'score_time': array([0.32874107, 0.6191349 , 0.319767  , 0.33270097, 0.31390715]),\n",
       " 'test_score': array([0.42783204, 0.45009478, 0.44881718, 0.42317198, 0.39145788]),\n",
       " 'train_score': array([0.43119949, 0.43381525, 0.42838386, 0.43860834, 0.44503336])}"
      ]
     },
     "execution_count": 9,
     "metadata": {},
     "output_type": "execute_result"
    }
   ],
   "source": [
    "### SVM + Cross Validation\n",
    "np.random.seed(123) \n",
    "cv_results_glove = cross_validate(SVC(C= 0.1), vec_sentence_glove, data.emotion.values, cv=5, scoring  = 'f1_macro', return_train_score = True)\n",
    "cv_results_glove     ######## glove 6b dim=50"
   ]
  },
  {
   "cell_type": "code",
   "execution_count": 10,
   "metadata": {},
   "outputs": [
    {
     "data": {
      "text/plain": [
       "0.4282747720000001"
      ]
     },
     "execution_count": 10,
     "metadata": {},
     "output_type": "execute_result"
    }
   ],
   "source": [
    "(0.42783204 + 0.45009478 +0.44881718 + 0.42317198 + 0.39145788)/5"
   ]
  },
  {
   "cell_type": "markdown",
   "metadata": {},
   "source": [
    "# Average_Model"
   ]
  },
  {
   "cell_type": "code",
   "execution_count": 11,
   "metadata": {},
   "outputs": [],
   "source": [
    "with open('ave_dict', 'rb') as rf:\n",
    "    ave_model = pickle.load(rf)\n",
    "\n",
    "vector_ave = []\n",
    "for i in range(len(corpus)):\n",
    "    temp = np.zeros(64)\n",
    "    for j in range(len(corpus[i])):\n",
    "        try:\n",
    "            temp = temp + ave_model[corpus[i][j]] \n",
    "        except:\n",
    "            next\n",
    "    vector_ave.append(temp/len(corpus[i]))\n",
    "     \n",
    "vec_sentence_ave = np.vstack(vector_ave)  "
   ]
  },
  {
   "cell_type": "code",
   "execution_count": 12,
   "metadata": {},
   "outputs": [
    {
     "data": {
      "text/plain": [
       "{'fit_time': array([3.05270696, 2.97786331, 2.87062597, 2.77540898, 3.29351926]),\n",
       " 'score_time': array([0.37473512, 0.43252778, 0.38529205, 0.49606395, 0.61251664]),\n",
       " 'test_score': array([0.41225029, 0.40077189, 0.43905625, 0.41390216, 0.38462274]),\n",
       " 'train_score': array([0.4347982 , 0.43791312, 0.42767369, 0.43622596, 0.44069711])}"
      ]
     },
     "execution_count": 12,
     "metadata": {},
     "output_type": "execute_result"
    }
   ],
   "source": [
    "np.random.seed(123) \n",
    "cv_results_ave = cross_validate(SVC(C=0.1), vec_sentence_ave, data.emotion.values, cv=5, scoring  = 'f1_macro', return_train_score = True)\n",
    "cv_results_ave"
   ]
  },
  {
   "cell_type": "code",
   "execution_count": 13,
   "metadata": {},
   "outputs": [
    {
     "data": {
      "text/plain": [
       "0.4101206660000001"
      ]
     },
     "execution_count": 13,
     "metadata": {},
     "output_type": "execute_result"
    }
   ],
   "source": [
    "(0.41225029+ 0.40077189+ 0.43905625+ 0.41390216+ 0.38462274)/5"
   ]
  },
  {
   "cell_type": "markdown",
   "metadata": {},
   "source": [
    "# LSTM_Model"
   ]
  },
  {
   "cell_type": "code",
   "execution_count": 14,
   "metadata": {},
   "outputs": [],
   "source": [
    "with open('lstm_dict', 'rb') as rf:\n",
    "    lstm_model = pickle.load(rf)\n",
    "    \n",
    "vector_lstm = []\n",
    "for i in range(len(corpus)):\n",
    "    temp = np.zeros(64)\n",
    "    for j in range(len(corpus[i])):\n",
    "        try:\n",
    "            temp = temp + lstm_model[corpus[i][j]] \n",
    "        except:\n",
    "            next\n",
    "    vector_lstm.append(temp/len(corpus[i]))\n",
    "\n",
    "vec_sentence_lstm = np.vstack(vector_lstm)  "
   ]
  },
  {
   "cell_type": "code",
   "execution_count": 15,
   "metadata": {},
   "outputs": [
    {
     "data": {
      "text/plain": [
       "{'fit_time': array([3.02309418, 2.80074096, 2.5853529 , 2.56723094, 2.54965711]),\n",
       " 'score_time': array([0.42027497, 0.44073701, 0.387465  , 0.38802099, 0.38892007]),\n",
       " 'test_score': array([0.41640686, 0.40809345, 0.43642185, 0.38594144, 0.38600218]),\n",
       " 'train_score': array([0.43881765, 0.43865636, 0.43803834, 0.44047815, 0.44167266])}"
      ]
     },
     "execution_count": 15,
     "metadata": {},
     "output_type": "execute_result"
    }
   ],
   "source": [
    "np.random.seed(123) \n",
    "cv_results_lstm = cross_validate(SVC(C=0.1), vec_sentence_lstm, data.emotion.values, cv=5, scoring  = 'f1_macro', return_train_score = True)\n",
    "cv_results_lstm"
   ]
  },
  {
   "cell_type": "code",
   "execution_count": 16,
   "metadata": {},
   "outputs": [
    {
     "data": {
      "text/plain": [
       "0.406573156"
      ]
     },
     "execution_count": 16,
     "metadata": {},
     "output_type": "execute_result"
    }
   ],
   "source": [
    "(0.41640686+ 0.40809345+ 0.43642185+ 0.38594144+ 0.38600218)/5"
   ]
  },
  {
   "cell_type": "markdown",
   "metadata": {},
   "source": [
    "# Attention Model"
   ]
  },
  {
   "cell_type": "code",
   "execution_count": 17,
   "metadata": {},
   "outputs": [],
   "source": [
    "with open('att_dict', 'rb') as rf:\n",
    "    att_model = pickle.load(rf)\n",
    "    \n",
    "vector_att = []\n",
    "for i in range(len(corpus)):\n",
    "    temp = np.zeros(64)\n",
    "    for j in range(len(corpus[i])):\n",
    "        try:\n",
    "            temp = temp + att_model[corpus[i][j]]  ### mtatt\n",
    "        except:\n",
    "            next\n",
    "    vector_att.append(temp/len(corpus[i]))\n",
    "    \n",
    "vec_sentence_att = np.vstack(vector_att)  "
   ]
  },
  {
   "cell_type": "code",
   "execution_count": 18,
   "metadata": {},
   "outputs": [
    {
     "data": {
      "text/plain": [
       "{'fit_time': array([2.53155684, 2.47385192, 2.63676119, 2.68796229, 2.55728507]),\n",
       " 'score_time': array([0.38498926, 0.38817406, 0.39890623, 0.41019583, 0.39029408]),\n",
       " 'test_score': array([0.44504077, 0.43123989, 0.43314835, 0.4302301 , 0.40294296]),\n",
       " 'train_score': array([0.44581918, 0.45588631, 0.45361998, 0.44977537, 0.45637001])}"
      ]
     },
     "execution_count": 18,
     "metadata": {},
     "output_type": "execute_result"
    }
   ],
   "source": [
    "np.random.seed(123) \n",
    "cv_results_att = cross_validate(SVC(C=0.1), vec_sentence_att, data.emotion.values, cv=5, scoring  = 'f1_macro', return_train_score = True)\n",
    "cv_results_att"
   ]
  },
  {
   "cell_type": "code",
   "execution_count": 19,
   "metadata": {},
   "outputs": [
    {
     "data": {
      "text/plain": [
       "0.42852041399999996"
      ]
     },
     "execution_count": 19,
     "metadata": {},
     "output_type": "execute_result"
    }
   ],
   "source": [
    "(0.44504077+ 0.43123989+ 0.43314835+ 0.4302301 + 0.40294296)/5"
   ]
  },
  {
   "cell_type": "markdown",
   "metadata": {},
   "source": [
    "# MTATT"
   ]
  },
  {
   "cell_type": "code",
   "execution_count": 20,
   "metadata": {},
   "outputs": [],
   "source": [
    "with open('mtatt_dict', 'rb') as rf:\n",
    "    mtatt_model = pickle.load(rf)\n",
    "    \n",
    "vector_mtatt = []\n",
    "for i in range(len(corpus)):\n",
    "    temp = np.zeros(64)\n",
    "    for j in range(len(corpus[i])):\n",
    "        try:\n",
    "            temp = temp + mtatt_model[corpus[i][j]]  ### mtatt\n",
    "        except:\n",
    "            next\n",
    "    vector_mtatt.append(temp/len(corpus[i]))\n",
    "    \n",
    "vec_sentence_mtatt = np.vstack(vector_mtatt)  "
   ]
  },
  {
   "cell_type": "code",
   "execution_count": 21,
   "metadata": {},
   "outputs": [
    {
     "data": {
      "text/plain": [
       "{'fit_time': array([2.7733078 , 2.83496284, 2.90859294, 3.26106691, 2.87554812]),\n",
       " 'score_time': array([0.42696905, 0.43319917, 0.39283609, 0.39533305, 0.38783693]),\n",
       " 'test_score': array([0.43708693, 0.40842472, 0.45072013, 0.43738794, 0.41987863]),\n",
       " 'train_score': array([0.46143795, 0.4693561 , 0.46330916, 0.45718138, 0.46631948])}"
      ]
     },
     "execution_count": 21,
     "metadata": {},
     "output_type": "execute_result"
    }
   ],
   "source": [
    "### SVM + Cross Validation\n",
    "np.random.seed(123) \n",
    "cv_results_mtatt = cross_validate(SVC(C= 0.1), vec_sentence_mtatt, data.emotion.values, cv=5, scoring  = 'f1_macro', return_train_score = True)\n",
    "cv_results_mtatt"
   ]
  },
  {
   "cell_type": "code",
   "execution_count": 22,
   "metadata": {},
   "outputs": [
    {
     "data": {
      "text/plain": [
       "0.43069967"
      ]
     },
     "execution_count": 22,
     "metadata": {},
     "output_type": "execute_result"
    }
   ],
   "source": [
    "(0.43708693+ 0.40842472+ 0.45072013+ 0.43738794+ 0.41987863)/5"
   ]
  },
  {
   "cell_type": "code",
   "execution_count": 23,
   "metadata": {},
   "outputs": [
    {
     "data": {
      "text/plain": [
       "Text(0.5, 1.0, 'MTATT confusion matrix')"
      ]
     },
     "execution_count": 23,
     "metadata": {},
     "output_type": "execute_result"
    },
    {
     "data": {
      "image/png": "[encoded data removed]",
      "text/plain": [
       "<Figure size 432x288 with 2 Axes>"
      ]
     },
     "metadata": {
      "needs_background": "light"
     },
     "output_type": "display_data"
    }
   ],
   "source": [
    "## MTATT\n",
    "y_pred_mtatt = cross_val_predict(SVC(C=0.1), vec_sentence_mtatt, data.emotion.values, cv=5)\n",
    "conf_mat_mtatt = pd.DataFrame(confusion_matrix(data.emotion.values, y_pred_mtatt), columns=['anger','disgust','fear','joy', 'sadness'], index=['anger','disgust','fear','joy', 'sadness'])\n",
    "\n",
    "ax = sn.heatmap(conf_mat_mtatt, annot=True, cmap=\"Blues\", fmt='g')\n",
    "ax.set_title('MTATT confusion matrix')"
   ]
  },
  {
   "cell_type": "code",
   "execution_count": 24,
   "metadata": {},
   "outputs": [
    {
     "data": {
      "text/plain": [
       "{'anger': 1314, 'disgust': 966, 'fear': 1090, 'joy': 1208, 'sadness': 899}"
      ]
     },
     "execution_count": 24,
     "metadata": {},
     "output_type": "execute_result"
    }
   ],
   "source": [
    "a =  y_pred_mtatt\n",
    "unique, counts = np.unique(a, return_counts=True)\n",
    "dict(zip(unique, counts))"
   ]
  },
  {
   "cell_type": "code",
   "execution_count": 25,
   "metadata": {},
   "outputs": [
    {
     "data": {
      "text/plain": [
       "Text(0.5, 1.0, 'Glove confusion matrix')"
      ]
     },
     "execution_count": 25,
     "metadata": {},
     "output_type": "execute_result"
    },
    {
     "data": {
      "image/png": "[encoded data removed]",
      "text/plain": [
       "<Figure size 432x288 with 2 Axes>"
      ]
     },
     "metadata": {
      "needs_background": "light"
     },
     "output_type": "display_data"
    }
   ],
   "source": [
    "## GLOVE \n",
    "y_pred_glove = cross_val_predict(SVC(C=0.1), vec_sentence_glove, data.emotion.values, cv=5)\n",
    "conf_mat_glove = confusion_matrix(data.emotion.values, y_pred_glove)\n",
    "\n",
    "y_pred_mtatt = cross_val_predict(SVC(C=0.1), vec_sentence_mtatt, data.emotion.values, cv=5)\n",
    "conf_mat_mtatt = pd.DataFrame(confusion_matrix(data.emotion.values, y_pred_glove), columns=['anger','disgust','fear','joy', 'sadness'], index=['anger','disgust','fear','joy', 'sadness'])\n",
    "\n",
    "ax = sn.heatmap(conf_mat_mtatt, annot=True, cmap=\"Blues\", fmt='g')\n",
    "ax.set_title('Glove confusion matrix')"
   ]
  },
  {
   "cell_type": "code",
   "execution_count": 26,
   "metadata": {},
   "outputs": [
    {
     "data": {
      "text/plain": [
       "{'anger': 1866, 'disgust': 1059, 'fear': 1086, 'joy': 828, 'sadness': 638}"
      ]
     },
     "execution_count": 26,
     "metadata": {},
     "output_type": "execute_result"
    }
   ],
   "source": [
    "a =  y_pred_glove\n",
    "unique, counts = np.unique(a, return_counts=True)\n",
    "dict(zip(unique, counts))"
   ]
  },
  {
   "cell_type": "markdown",
   "metadata": {},
   "source": [
    "# Emotion Similarity using NRC lexicon"
   ]
  },
  {
   "cell_type": "code",
   "execution_count": 27,
   "metadata": {},
   "outputs": [],
   "source": [
    "filepath = \"NRC-emotion-lexicon-wordlevel-alphabetized-v0.92.txt\"\n",
    "emolex_df = pd.read_csv(filepath,  names=[\"word\", \"emotion\", \"association\"], skiprows=45, sep='\\t', keep_default_na=False)\n",
    "emolex_df.head(12)\n",
    "\n",
    "emolex_words = emolex_df.pivot(index='word', columns='emotion', values='association').reset_index()"
   ]
  },
  {
   "cell_type": "code",
   "execution_count": 28,
   "metadata": {},
   "outputs": [],
   "source": [
    "new_emolex = emolex_words.drop('positive', axis=1).drop('negative', axis=1).drop('trust', axis=1).drop('surprise', axis=1).drop('anticipation', axis=1)"
   ]
  },
  {
   "cell_type": "code",
   "execution_count": 29,
   "metadata": {},
   "outputs": [],
   "source": [
    "df = new_emolex.loc[new_emolex['anger'] + new_emolex['disgust'] + new_emolex['joy'] + new_emolex['fear']+ new_emolex['sadness'] != 0]"
   ]
  },
  {
   "cell_type": "markdown",
   "metadata": {},
   "source": [
    "Since in the lexicon, one word has multiple emotion, then I delete these word has mutiple emotion\n",
    "\n",
    "But this is bad, we only has hundreds word in common"
   ]
  },
  {
   "cell_type": "code",
   "execution_count": 30,
   "metadata": {},
   "outputs": [],
   "source": [
    "df = df.loc[df['anger'] + df['disgust'] + df['joy'] + df['fear']+ df['sadness'] == 1]"
   ]
  },
  {
   "cell_type": "markdown",
   "metadata": {},
   "source": [
    "Step 1: find common word in lexicon and our embedding"
   ]
  },
  {
   "cell_type": "code",
   "execution_count": 31,
   "metadata": {},
   "outputs": [],
   "source": [
    "word_nrc = df['word'].tolist()"
   ]
  },
  {
   "cell_type": "code",
   "execution_count": 32,
   "metadata": {},
   "outputs": [],
   "source": [
    "word_embed=  np.intersect1d( list(att_model.keys()),  list(mtatt_model.keys()))"
   ]
  },
  {
   "cell_type": "code",
   "execution_count": 33,
   "metadata": {},
   "outputs": [],
   "source": [
    "common_word = np.intersect1d(word_nrc, word_embed)  ## size = 2674"
   ]
  },
  {
   "cell_type": "markdown",
   "metadata": {},
   "source": [
    "Step 2: Calculate Cosine Similarity between each word"
   ]
  },
  {
   "cell_type": "code",
   "execution_count": null,
   "metadata": {},
   "outputs": [],
   "source": []
  },
  {
   "cell_type": "code",
   "execution_count": 34,
   "metadata": {},
   "outputs": [],
   "source": [
    "######### the embedding vector by Glove \n",
    "vec_word = []\n",
    "for i in range(len(common_word)):\n",
    "    vec_word.append(glove[common_word[i]])\n",
    "\n",
    "vec_temp = []\n",
    "for i in range(len(vec_word)):\n",
    "    temp = vec_word[i].numpy()\n",
    "    vec_temp.append(temp)\n",
    "\n",
    "from sklearn.metrics.pairwise import cosine_similarity\n",
    "word_sim_glove = cosine_similarity(vec_temp, vec_temp)   ## cosine similarity matrix"
   ]
  },
  {
   "cell_type": "code",
   "execution_count": 35,
   "metadata": {},
   "outputs": [],
   "source": [
    "######### the embedding vector by Ave \n",
    "vec_word = []\n",
    "for i in range(len(common_word)):\n",
    "    vec_word.append(ave_model[common_word[i]])\n",
    "    \n",
    "\n",
    "word_sim_ave = cosine_similarity(vec_word, vec_word)   ## cosine similarity matrix"
   ]
  },
  {
   "cell_type": "code",
   "execution_count": 36,
   "metadata": {},
   "outputs": [],
   "source": [
    "######### the embedding vector by LSTM \n",
    "vec_word = []\n",
    "for i in range(len(common_word)):\n",
    "    vec_word.append(lstm_model[common_word[i]])\n",
    "    \n",
    "word_sim_lstm = cosine_similarity(vec_word, vec_word)   ## cosine similarity matrix"
   ]
  },
  {
   "cell_type": "code",
   "execution_count": 37,
   "metadata": {},
   "outputs": [],
   "source": [
    "######### the embedding vector by Attention \n",
    "vec_word = []\n",
    "for i in range(len(common_word)):\n",
    "    vec_word.append(att_model[common_word[i]])\n",
    "    \n",
    "word_sim_att = cosine_similarity(vec_word, vec_word)   ## cosine similarity matrix"
   ]
  },
  {
   "cell_type": "code",
   "execution_count": 38,
   "metadata": {},
   "outputs": [],
   "source": [
    "######### the embedding vector by MTATT \n",
    "vec_word = []\n",
    "for i in range(len(common_word)):\n",
    "    vec_word.append(mtatt_model[common_word[i]])\n",
    "    \n",
    "word_sim_mtatt = cosine_similarity(vec_word, vec_word)   ## cosine similarity matrix"
   ]
  },
  {
   "cell_type": "markdown",
   "metadata": {},
   "source": [
    "Calcaute the Accuracy,"
   ]
  },
  {
   "cell_type": "code",
   "execution_count": 39,
   "metadata": {},
   "outputs": [
    {
     "data": {
      "text/plain": [
       "2123"
      ]
     },
     "execution_count": 39,
     "metadata": {},
     "output_type": "execute_result"
    }
   ],
   "source": [
    "## glove\n",
    "\n",
    "numerator = 0 \n",
    "\n",
    "for i in range(len(common_word)):\n",
    "    temp =df.loc[df['word'] == common_word[i]]\n",
    "    emo =temp.columns[temp.isin([1]).all()].tolist()[0]\n",
    "    a = word_sim_glove[i]\n",
    "    indic = heapq.nlargest(10, range(len(a)), a.take)     ### here to change the paramter \"N\"\n",
    "    for j in range(len(indic)):\n",
    "        temp2 =df.loc[df['word'] == common_word[indic[j]]]\n",
    "        emo2 =temp2.columns[temp2.isin([1]).all()].tolist()[0]\n",
    "        if emo ==emo2:\n",
    "            numerator = numerator + 1\n",
    "numerator"
   ]
  },
  {
   "cell_type": "code",
   "execution_count": 40,
   "metadata": {},
   "outputs": [
    {
     "data": {
      "text/plain": [
       "1854"
      ]
     },
     "execution_count": 40,
     "metadata": {},
     "output_type": "execute_result"
    }
   ],
   "source": [
    "### AVE\n",
    "numerator = 0 \n",
    "\n",
    "for i in range(len(common_word)):\n",
    "    temp =df.loc[df['word'] == common_word[i]]\n",
    "    emo =temp.columns[temp.isin([1]).all()].tolist()[0]\n",
    "    a = word_sim_ave[i]\n",
    "    indic = heapq.nlargest(10, range(len(a)), a.take)\n",
    "    for j in range(len(indic)):\n",
    "        temp2 =df.loc[df['word'] == common_word[indic[j]]]\n",
    "        emo2 =temp2.columns[temp2.isin([1]).all()].tolist()[0]\n",
    "        if emo ==emo2:\n",
    "            numerator = numerator + 1\n",
    "numerator "
   ]
  },
  {
   "cell_type": "code",
   "execution_count": 41,
   "metadata": {},
   "outputs": [
    {
     "data": {
      "text/plain": [
       "1779"
      ]
     },
     "execution_count": 41,
     "metadata": {},
     "output_type": "execute_result"
    }
   ],
   "source": [
    "###  LSTM\n",
    "numerator = 0 \n",
    "\n",
    "for i in range(len(common_word)):\n",
    "    temp =df.loc[df['word'] == common_word[i]]\n",
    "    emo =temp.columns[temp.isin([1]).all()].tolist()[0]\n",
    "    a = word_sim_lstm[i]\n",
    "    indic = heapq.nlargest(10, range(len(a)), a.take)\n",
    "    for j in range(len(indic)):\n",
    "        temp2 =df.loc[df['word'] == common_word[indic[j]]]\n",
    "        emo2 =temp2.columns[temp2.isin([1]).all()].tolist()[0]\n",
    "        if emo ==emo2:\n",
    "            numerator = numerator + 1\n",
    "numerator "
   ]
  },
  {
   "cell_type": "code",
   "execution_count": 42,
   "metadata": {},
   "outputs": [
    {
     "data": {
      "text/plain": [
       "1731"
      ]
     },
     "execution_count": 42,
     "metadata": {},
     "output_type": "execute_result"
    }
   ],
   "source": [
    "### Attention\n",
    "numerator = 0 \n",
    "\n",
    "for i in range(len(common_word)):\n",
    "    temp =df.loc[df['word'] == common_word[i]]\n",
    "    emo =temp.columns[temp.isin([1]).all()].tolist()[0]\n",
    "    a = word_sim_att[i]\n",
    "    indic = heapq.nlargest(10, range(len(a)), a.take)\n",
    "    for j in range(len(indic)):\n",
    "        temp2 =df.loc[df['word'] == common_word[indic[j]]]\n",
    "        emo2 =temp2.columns[temp2.isin([1]).all()].tolist()[0]\n",
    "        if emo ==emo2:\n",
    "            numerator = numerator + 1\n",
    "numerator "
   ]
  },
  {
   "cell_type": "code",
   "execution_count": 43,
   "metadata": {},
   "outputs": [
    {
     "data": {
      "text/plain": [
       "1715"
      ]
     },
     "execution_count": 43,
     "metadata": {},
     "output_type": "execute_result"
    }
   ],
   "source": [
    "###  MTATT\n",
    "numerator = 0 \n",
    "\n",
    "for i in range(len(common_word)):\n",
    "    temp =df.loc[df['word'] == common_word[i]]\n",
    "    emo =temp.columns[temp.isin([1]).all()].tolist()[0]\n",
    "    a = word_sim_mtatt[i]\n",
    "    indic = heapq.nlargest(10, range(len(a)), a.take)\n",
    "    for j in range(len(indic)):\n",
    "        temp2 =df.loc[df['word'] == common_word[indic[j]]]\n",
    "        emo2 =temp2.columns[temp2.isin([1]).all()].tolist()[0]\n",
    "        if emo ==emo2:\n",
    "            numerator = numerator + 1\n",
    "numerator "
   ]
  },
  {
   "cell_type": "markdown",
   "metadata": {},
   "source": [
    "\n"
   ]
  },
  {
   "cell_type": "code",
   "execution_count": 44,
   "metadata": {},
   "outputs": [
    {
     "data": {
      "text/plain": [
       "382"
      ]
     },
     "execution_count": 44,
     "metadata": {},
     "output_type": "execute_result"
    }
   ],
   "source": [
    "len(common_word)"
   ]
  },
  {
   "cell_type": "code",
   "execution_count": null,
   "metadata": {},
   "outputs": [],
   "source": []
  },
  {
   "cell_type": "code",
   "execution_count": null,
   "metadata": {},
   "outputs": [],
   "source": []
  }
 ],
 "metadata": {
  "kernelspec": {
   "display_name": "Python 3",
   "language": "python",
   "name": "python3"
  },
  "language_info": {
   "codemirror_mode": {
    "name": "ipython",
    "version": 3
   },
   "file_extension": ".py",
   "mimetype": "text/x-python",
   "name": "python",
   "nbconvert_exporter": "python",
   "pygments_lexer": "ipython3",
   "version": "3.7.3"
  }
 },
 "nbformat": 4,
 "nbformat_minor": 4
}
